{
 "cells": [
  {
   "cell_type": "markdown",
   "metadata": {},
   "source": [
    "# NifH FastANI Analysis"
   ]
  },
  {
   "cell_type": "code",
   "execution_count": 2,
   "metadata": {},
   "outputs": [],
   "source": [
    "import numpy as np\n",
    "import pandas as pd\n",
    "import os\n",
    "import matplotlib.pyplot as plt"
   ]
  },
  {
   "cell_type": "code",
   "execution_count": 2,
   "metadata": {},
   "outputs": [],
   "source": [
    "ani_output = pd.read_csv('/vortexfs1/omics/alexander/lblum/tara_gene_finder/mag_analysis/fastani_output/nifH_vs_ref_meren', sep='\\t',index_col=0, header = None)"
   ]
  },
  {
   "cell_type": "code",
   "execution_count": 3,
   "metadata": {},
   "outputs": [],
   "source": [
    "ani_output.index = ani_output.index.str.replace(\"nifH_mags/\",\"\")\n",
    "ani_output[1] = ani_output[1].str.replace(\"nifH_mags/\",\"\")\n"
   ]
  },
  {
   "cell_type": "code",
   "execution_count": 4,
   "metadata": {},
   "outputs": [],
   "source": [
    "checkm_report= pd.read_csv('/vortexfs1/omics/alexander/lblum/tara_gene_finder/data/mags_data/all_checkm_plus.txt', sep='\\t', index_col=0)"
   ]
  },
  {
   "cell_type": "code",
   "execution_count": 3,
   "metadata": {},
   "outputs": [],
   "source": [
    "quast_report= pd.read_csv('/vortexfs1/omics/alexander/lblum/tara_gene_finder/data/mags_data/all_quast_report.txt', sep='\\t', index_col=0)\n",
    "quast_report = quast_report.apply(pd.to_numeric)"
   ]
  },
  {
   "cell_type": "code",
   "execution_count": 7,
   "metadata": {},
   "outputs": [],
   "source": [
    "GTDBTK_report = pd.read_csv('/vortexfs1/omics/alexander/lblum/tara_gene_finder/mag_analysis/nifH-gtdbtk-2_7/gtdbtk.bac120.summary.tsv', sep='\\t', index_col = 0)"
   ]
  },
  {
   "cell_type": "code",
   "execution_count": 8,
   "metadata": {
    "scrolled": true
   },
   "outputs": [],
   "source": [
    "#This is code to cluster the mags based on similarity 95% or more ANI\n",
    "bins = []\n",
    "index = ani_output.iloc[:,0]\n",
    "\n",
    "for name in index:\n",
    "    bins.append(name)\n",
    "  \n",
    "        \n",
    "bin_dic = {}\n",
    "used_ids = set()\n",
    "for name in bins:\n",
    "    if name not in bin_dic.keys() and name not in used_ids:\n",
    "        bin_dic[name] = []\n",
    "        clust =  ani_output[ani_output.index == name]\n",
    "        \n",
    "        name_list =  []\n",
    "        for item in clust[1]:\n",
    "            name_list.append(item)\n",
    "            \n",
    "        val_list = []\n",
    "        for item in clust[2]:\n",
    "            val_list.append(item)\n",
    "    \n",
    "        for val in val_list:            \n",
    "            val_index= val_list.index(val)    \n",
    "            if val > 95 and name_list[val_index] not in bin_dic.items():\n",
    "                bin_dic[name].append(name_list[val_index])\n",
    "                used_ids.add(name_list[val_index])\n"
   ]
  },
  {
   "cell_type": "code",
   "execution_count": 9,
   "metadata": {
    "scrolled": true
   },
   "outputs": [],
   "source": [
    "cluster_df = pd.DataFrame.from_dict(bin_dic, orient='index')\n",
    "cluster_df['cluster'] = cluster_df[cluster_df.columns[0:]].apply(lambda x: ','.join(x.dropna().astype(str)), axis=1)\n",
    "cluster_data = pd.DataFrame(cluster_df['cluster'])\n",
    "bin_id = cluster_df.index.str.replace(\".fa\", \"\")\n",
    "cluster_df[\"bin_id\"] = bin_id\n",
    "cluster_df['quast_id'] = bin_id.str.replace(\"-\",\"_\")"
   ]
  },
  {
   "cell_type": "code",
   "execution_count": 10,
   "metadata": {},
   "outputs": [],
   "source": [
    "cluster_df = cluster_df.merge(quast_report, left_on = \"quast_id\", right_on = \"Assembly\")"
   ]
  },
  {
   "cell_type": "code",
   "execution_count": 11,
   "metadata": {},
   "outputs": [],
   "source": [
    "clusters_metadata = cluster_df.merge(checkm_report, left_on = 'bin_id', right_on = \"bin_id\")\n"
   ]
  },
  {
   "cell_type": "code",
   "execution_count": 12,
   "metadata": {},
   "outputs": [],
   "source": [
    "clusters_metadata = clusters_metadata.merge(GTDBTK_report, left_on = 'bin_id', right_on = \"user_genome\")"
   ]
  },
  {
   "cell_type": "code",
   "execution_count": 4,
   "metadata": {},
   "outputs": [
    {
     "ename": "NameError",
     "evalue": "name 'clusters_metadata' is not defined",
     "output_type": "error",
     "traceback": [
      "\u001b[0;31m---------------------------------------------------------------------------\u001b[0m",
      "\u001b[0;31mNameError\u001b[0m                                 Traceback (most recent call last)",
      "\u001b[0;32m<ipython-input-4-e8fd64d1b7c1>\u001b[0m in \u001b[0;36m<module>\u001b[0;34m\u001b[0m\n\u001b[0;32m----> 1\u001b[0;31m \u001b[0mclusters_metadata_trim\u001b[0m \u001b[0;34m=\u001b[0m \u001b[0mclusters_metadata\u001b[0m\u001b[0;34m.\u001b[0m\u001b[0mloc\u001b[0m\u001b[0;34m[\u001b[0m\u001b[0;34m:\u001b[0m\u001b[0;34m,\u001b[0m \u001b[0;34m[\u001b[0m\u001b[0;34m\"bin_id\"\u001b[0m\u001b[0;34m,\u001b[0m\u001b[0;34m\"cluster\"\u001b[0m\u001b[0;34m,\u001b[0m \u001b[0;34m\"completeness\"\u001b[0m\u001b[0;34m,\u001b[0m \u001b[0;34m\"contamination\"\u001b[0m\u001b[0;34m,\u001b[0m \u001b[0;34m\"strain_het\"\u001b[0m\u001b[0;34m,\u001b[0m\u001b[0;34m\"classification\"\u001b[0m\u001b[0;34m,\u001b[0m \u001b[0;34m\"Total length (>= 0 bp)\"\u001b[0m\u001b[0;34m,\u001b[0m \u001b[0;34m\"GC (%)\"\u001b[0m\u001b[0;34m]\u001b[0m\u001b[0;34m]\u001b[0m\u001b[0;34m\u001b[0m\u001b[0;34m\u001b[0m\u001b[0m\n\u001b[0m\u001b[1;32m      2\u001b[0m \u001b[0mpd\u001b[0m\u001b[0;34m.\u001b[0m\u001b[0mset_option\u001b[0m\u001b[0;34m(\u001b[0m\u001b[0;34m'display.max_colwidth'\u001b[0m\u001b[0;34m,\u001b[0m \u001b[0;34m-\u001b[0m\u001b[0;36m1\u001b[0m\u001b[0;34m)\u001b[0m\u001b[0;34m\u001b[0m\u001b[0;34m\u001b[0m\u001b[0m\n\u001b[1;32m      3\u001b[0m \u001b[0;31m#here are the clusters with metadata listed for the bin_id mag (not necessarily the representative...see below)\u001b[0m\u001b[0;34m\u001b[0m\u001b[0;34m\u001b[0m\u001b[0;34m\u001b[0m\u001b[0m\n",
      "\u001b[0;31mNameError\u001b[0m: name 'clusters_metadata' is not defined"
     ]
    }
   ],
   "source": [
    "clusters_metadata_trim = clusters_metadata.loc[:, [\"bin_id\",\"cluster\", \"completeness\", \"contamination\", \"strain_het\",\"classification\", \"Total length (>= 0 bp)\", \"GC (%)\"]]\n",
    "pd.set_option('display.max_colwidth', -1)\n",
    "#here are the clusters with metadata listed for the bin_id mag (not necessarily the representative...see below)"
   ]
  },
  {
   "cell_type": "code",
   "execution_count": 41,
   "metadata": {
    "scrolled": false
   },
   "outputs": [],
   "source": [
    "full_mags = pd.DataFrame(used_ids)\n",
    "bin_id = full_mags[0].str.replace(\"nifH_mags/\",\"\").str.replace(\".fa\",\"\")\n",
    "full_mags[\"bin_id\"]= bin_id\n",
    "full_mags['quast_id'] = bin_id.str.replace(\"-\",\"_\")\n",
    "full_mags = full_mags.merge(quast_report, left_on= 'quast_id', right_on = \"Assembly\")\n",
    "full_mags_metadata = full_mags.merge(checkm_report, left_on = 'bin_id', right_on = \"bin_id\")\n",
    "full_mags_metadata= full_mags_metadata.merge(GTDBTK_report, left_on = 'bin_id', right_on = \"user_genome\")\n",
    "full_mags_metadata['estimated_genome_size'] = full_mags_metadata['Total length (>= 0 bp)']/(full_mags_metadata['completeness'].astype(float)/100)\n",
    "full_mags_metadata['GTDBTK_phylum'] = full_mags_metadata[\"classification\"].str.split(\";\").str[1].str.replace(\"p__\",'')\n",
    "full_mags_metadata['GTDBTK_genus'] = full_mags_metadata[\"classification\"].str.split(\";\").str[-2].str.replace('g__',' ')\n",
    "full_mags_metadata['GTDBTK_class'] = full_mags_metadata[\"classification\"].str.split(\";\").str[2].str.replace('c__','')\n",
    "\n",
    "mags_metadata_trim = full_mags_metadata.loc[:, [\"bin_id\", \"completeness\", \"contamination\", \"strain_het\", \"classification\",'GTDBTK_phylum','GTDBTK_class','GTDBTK_genus', \"Total length (>= 0 bp)\",\"estimated_genome_size\" ,\"GC (%)\"]]\n",
    "\n",
    "##NOTE: this limits it to the MAGs from our data set only... because that is what we have metadata for. \n",
    "#This is for cross referencing clusters to choose a representative\n",
    "mags_metadata_trim.to_csv(\"/vortexfs1/omics/alexander/lblum/tara_gene_finder/mag_analysis/outputs/nifH_brief_mags_metadata.csv\", index=False)"
   ]
  }
 ],
 "metadata": {
  "kernelspec": {
   "display_name": "Python 3",
   "language": "python",
   "name": "python3"
  },
  "language_info": {
   "codemirror_mode": {
    "name": "ipython",
    "version": 3
   },
   "file_extension": ".py",
   "mimetype": "text/x-python",
   "name": "python",
   "nbconvert_exporter": "python",
   "pygments_lexer": "ipython3",
   "version": "3.6.7"
  }
 },
 "nbformat": 4,
 "nbformat_minor": 2
}
